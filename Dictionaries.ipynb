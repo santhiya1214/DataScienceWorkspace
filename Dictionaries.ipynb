{
 "cells": [
  {
   "cell_type": "markdown",
   "metadata": {},
   "source": [
    "# Dictionaries\n"
   ]
  },
  {
   "cell_type": "code",
   "execution_count": 1,
   "metadata": {},
   "outputs": [
    {
     "name": "stdout",
     "output_type": "stream",
     "text": [
      "{}\n"
     ]
    }
   ],
   "source": [
    "employees ={}  # Set has no keys, no index but dictionaries as {} but they ahve key and values\n",
    "print(employees)"
   ]
  },
  {
   "cell_type": "code",
   "execution_count": 2,
   "metadata": {},
   "outputs": [
    {
     "name": "stdout",
     "output_type": "stream",
     "text": [
      "{'111': 'San', '222': 'lucy'}\n"
     ]
    }
   ],
   "source": [
    "#Create dic with some initial values\n",
    "# Key and values are seperated by colon\n",
    "#key-value is seperated by comma\n",
    "#Keys are immutable, value are mutable\n",
    "#Keys cannot be duplicate\n",
    "employees={'111':'San','222':'lucy'}\n",
    "print(employees)"
   ]
  },
  {
   "cell_type": "code",
   "execution_count": 3,
   "metadata": {},
   "outputs": [
    {
     "name": "stdout",
     "output_type": "stream",
     "text": [
      "{'111': 'San', '222': 'lucy', '333': 'robert'}\n"
     ]
    }
   ],
   "source": [
    "#Add a value\n",
    "employees['333']='robert'\n",
    "print (employees)"
   ]
  },
  {
   "cell_type": "code",
   "execution_count": 4,
   "metadata": {},
   "outputs": [
    {
     "name": "stdout",
     "output_type": "stream",
     "text": [
      "{'111': 'sam', '222': 'lucy', '333': 'robert'}\n"
     ]
    }
   ],
   "source": [
    "#modifying the existing value\n",
    "employees['111']='sam'\n",
    "print(employees)"
   ]
  },
  {
   "cell_type": "code",
   "execution_count": 6,
   "metadata": {},
   "outputs": [
    {
     "name": "stdout",
     "output_type": "stream",
     "text": [
      "lucy\n"
     ]
    }
   ],
   "source": [
    "print(employees['222'])"
   ]
  },
  {
   "cell_type": "code",
   "execution_count": 7,
   "metadata": {},
   "outputs": [
    {
     "name": "stdout",
     "output_type": "stream",
     "text": [
      "None\n"
     ]
    }
   ],
   "source": [
    "#Accessing dictionary using get() function\n",
    "#no key error rather we get the none object from the list\n",
    "print(employees.get('444'))\n"
   ]
  },
  {
   "cell_type": "code",
   "execution_count": 8,
   "metadata": {},
   "outputs": [
    {
     "name": "stdout",
     "output_type": "stream",
     "text": [
      "111 : sam\n",
      "222 : lucy\n",
      "333 : robert\n"
     ]
    }
   ],
   "source": [
    "#loop through a dictionary\n",
    "for key in employees:\n",
    "    print(key,\":\",employees[key])"
   ]
  },
  {
   "cell_type": "code",
   "execution_count": 9,
   "metadata": {},
   "outputs": [
    {
     "name": "stdout",
     "output_type": "stream",
     "text": [
      "111\n",
      "222\n",
      "333\n"
     ]
    }
   ],
   "source": [
    "for key in employees.keys():\n",
    "    print(key)"
   ]
  },
  {
   "cell_type": "code",
   "execution_count": 10,
   "metadata": {},
   "outputs": [
    {
     "data": {
      "text/plain": [
       "dict_values(['sam', 'lucy', 'robert'])"
      ]
     },
     "execution_count": 10,
     "metadata": {},
     "output_type": "execute_result"
    }
   ],
   "source": [
    "# looping through dictionary values\n",
    "employees.values()"
   ]
  },
  {
   "cell_type": "code",
   "execution_count": 12,
   "metadata": {},
   "outputs": [
    {
     "name": "stdout",
     "output_type": "stream",
     "text": [
      "sam\n",
      "lucy\n",
      "robert\n"
     ]
    }
   ],
   "source": [
    "for value in employees.values():\n",
    "     print(value)\n",
    "        # value is just a variable nothing else"
   ]
  },
  {
   "cell_type": "code",
   "execution_count": 13,
   "metadata": {},
   "outputs": [
    {
     "data": {
      "text/plain": [
       "dict_items([('111', 'sam'), ('222', 'lucy'), ('333', 'robert')])"
      ]
     },
     "execution_count": 13,
     "metadata": {},
     "output_type": "execute_result"
    }
   ],
   "source": [
    "employees.items()"
   ]
  },
  {
   "cell_type": "code",
   "execution_count": 15,
   "metadata": {},
   "outputs": [
    {
     "name": "stdout",
     "output_type": "stream",
     "text": [
      "('111', 'sam')\n",
      "('222', 'lucy')\n",
      "('333', 'robert')\n"
     ]
    }
   ],
   "source": [
    "for item in employees.items():\n",
    "    print(item)"
   ]
  },
  {
   "cell_type": "code",
   "execution_count": 16,
   "metadata": {},
   "outputs": [
    {
     "name": "stdout",
     "output_type": "stream",
     "text": [
      "111 : sam\n",
      "222 : lucy\n",
      "333 : robert\n"
     ]
    }
   ],
   "source": [
    "## item is a tuple.list of tuples within a dictionary\n",
    "for item in employees.items():\n",
    "    print(item[0],':',item[1])"
   ]
  },
  {
   "cell_type": "code",
   "execution_count": 21,
   "metadata": {},
   "outputs": [
    {
     "ename": "IndentationError",
     "evalue": "unexpected indent (<ipython-input-21-5a04fe38b370>, line 6)",
     "output_type": "error",
     "traceback": [
      "\u001b[1;36m  File \u001b[1;32m\"<ipython-input-21-5a04fe38b370>\"\u001b[1;36m, line \u001b[1;32m6\u001b[0m\n\u001b[1;33m    print(employees)\u001b[0m\n\u001b[1;37m    ^\u001b[0m\n\u001b[1;31mIndentationError\u001b[0m\u001b[1;31m:\u001b[0m unexpected indent\n"
     ]
    }
   ],
   "source": [
    "#dictionaries has no orders no indexing as well\n",
    "#number of elements in a dict\n",
    "\n",
    "len(employees)\n"
   ]
  },
  {
   "cell_type": "code",
   "execution_count": 23,
   "metadata": {},
   "outputs": [
    {
     "name": "stdout",
     "output_type": "stream",
     "text": [
      "{'111': 'sam', '222': 'lucy'}\n"
     ]
    }
   ],
   "source": [
    "#removing element from employees\n",
    "del employees['333']\n",
    "print(employees)"
   ]
  },
  {
   "cell_type": "code",
   "execution_count": 24,
   "metadata": {},
   "outputs": [],
   "source": [
    "key ='444'\n",
    "if key in employees:\n",
    "    del employees[key]"
   ]
  },
  {
   "cell_type": "code",
   "execution_count": 29,
   "metadata": {},
   "outputs": [],
   "source": [
    "#Number of corona data\n",
    "#Number of deaths from corona\n",
    "conoraData ={\n",
    "    'Telugana':100,\n",
    "    'tamil nadu': 40,\n",
    "    'Andra':200,\n",
    "    'karnata': 400\n",
    "}"
   ]
  },
  {
   "cell_type": "code",
   "execution_count": 30,
   "metadata": {},
   "outputs": [],
   "source": [
    "#Number of deaths from corona\n",
    "conoraData ={\n",
    "    'Telugana':[100,1],\n",
    "    'tamil nadu': [40,30],\n",
    "    'Andra':[200,10],\n",
    "    'karnata': [400,5]\n",
    "}"
   ]
  },
  {
   "cell_type": "code",
   "execution_count": 36,
   "metadata": {},
   "outputs": [
    {
     "ename": "NameError",
     "evalue": "name 'coronaData' is not defined",
     "output_type": "error",
     "traceback": [
      "\u001b[1;31m---------------------------------------------------------------------------\u001b[0m",
      "\u001b[1;31mNameError\u001b[0m                                 Traceback (most recent call last)",
      "\u001b[1;32m<ipython-input-36-eddb93277c8c>\u001b[0m in \u001b[0;36m<module>\u001b[1;34m\u001b[0m\n\u001b[1;32m----> 1\u001b[1;33m \u001b[0mprint\u001b[0m\u001b[1;33m(\u001b[0m\u001b[0mcoronaData\u001b[0m\u001b[1;33m[\u001b[0m\u001b[0mkey\u001b[0m\u001b[1;33m]\u001b[0m\u001b[1;33m[\u001b[0m\u001b[1;36m1\u001b[0m\u001b[1;33m]\u001b[0m\u001b[1;33m)\u001b[0m\u001b[1;33m\u001b[0m\u001b[1;33m\u001b[0m\u001b[0m\n\u001b[0m",
      "\u001b[1;31mNameError\u001b[0m: name 'coronaData' is not defined"
     ]
    }
   ],
   "source": [
    "print(coronaData[key][1])"
   ]
  },
  {
   "cell_type": "code",
   "execution_count": 38,
   "metadata": {},
   "outputs": [],
   "source": [
    "#We can update one dictionary with the other dictionary\n",
    "person={\n",
    "    \n",
    "    'Name':'Zebra',\n",
    "    'Height':12*5+10  # expression can be feed for the key in dictionary\n",
    "}\n"
   ]
  },
  {
   "cell_type": "code",
   "execution_count": 40,
   "metadata": {},
   "outputs": [
    {
     "name": "stdout",
     "output_type": "stream",
     "text": [
      "[34, 34, 5, 67]\n"
     ]
    }
   ],
   "source": [
    "grades ={\n",
    "    \n",
    "    'smita':[34,34,5,67],\n",
    "    'samthiya':[56,78,8,33]\n",
    "}\n",
    "print(grades['smita'])"
   ]
  },
  {
   "cell_type": "code",
   "execution_count": 43,
   "metadata": {
    "scrolled": true
   },
   "outputs": [
    {
     "name": "stdout",
     "output_type": "stream",
     "text": [
      "avg is 35.0\n"
     ]
    }
   ],
   "source": [
    "x= sum(grades['smita'])\n",
    "y= len(grades['smita'])\n",
    "print('avg is' , x/y)"
   ]
  },
  {
   "cell_type": "code",
   "execution_count": null,
   "metadata": {},
   "outputs": [],
   "source": []
  },
  {
   "cell_type": "markdown",
   "metadata": {},
   "source": [
    "#nested dictionaries\n"
   ]
  },
  {
   "cell_type": "code",
   "execution_count": 45,
   "metadata": {},
   "outputs": [
    {
     "name": "stdout",
     "output_type": "stream",
     "text": [
      "{'Name': {'First': 'sanjay', 'name': 'sjukla'}, 'JobTitle': ['developer', 'Manager'], 'City': 'pune', 'Salary': 10000.0}\n"
     ]
    }
   ],
   "source": [
    "employeeData = {\n",
    "    'Name' :{'First' :'sanjay','name':'sjukla'},\n",
    "    'JobTitle':['developer','Manager'],\n",
    "    'City':'pune',\n",
    "    'Salary' :10000.00\n",
    "} \n",
    "\n",
    "print(employeeData)"
   ]
  },
  {
   "cell_type": "markdown",
   "metadata": {},
   "source": [
    "## Lambda functions /Ananymus functions"
   ]
  },
  {
   "cell_type": "code",
   "execution_count": 46,
   "metadata": {},
   "outputs": [
    {
     "data": {
      "text/plain": [
       "625"
      ]
     },
     "execution_count": 46,
     "metadata": {},
     "output_type": "execute_result"
    }
   ],
   "source": [
    "def xsquare(x):\n",
    "    return x*x\n",
    "xsquare(25)"
   ]
  },
  {
   "cell_type": "code",
   "execution_count": 47,
   "metadata": {},
   "outputs": [
    {
     "name": "stdout",
     "output_type": "stream",
     "text": [
      "25\n"
     ]
    }
   ],
   "source": [
    "x =5\n",
    "# value to a variable\n",
    "valueA=lambda x:x*x ## lambda(Keyword) x(input): x*x (output)  , compelte function is given to a value called valueA\n",
    "\n",
    "print(valueA(5))\n",
    "\n"
   ]
  },
  {
   "cell_type": "code",
   "execution_count": 50,
   "metadata": {},
   "outputs": [
    {
     "name": "stdout",
     "output_type": "stream",
     "text": [
      "8\n"
     ]
    }
   ],
   "source": [
    "valueB =lambda a,b:a*b\n",
    "print(valueB(2,4))"
   ]
  },
  {
   "cell_type": "code",
   "execution_count": 51,
   "metadata": {},
   "outputs": [
    {
     "data": {
      "text/plain": [
       "<function __main__.funA.<locals>.<lambda>(x)>"
      ]
     },
     "execution_count": 51,
     "metadata": {},
     "output_type": "execute_result"
    }
   ],
   "source": [
    "def funA(y):\n",
    "    return lambda x:x*y\n",
    "a = funA(5)\n",
    "a"
   ]
  },
  {
   "cell_type": "code",
   "execution_count": 52,
   "metadata": {},
   "outputs": [
    {
     "data": {
      "text/plain": [
       "50"
      ]
     },
     "execution_count": 52,
     "metadata": {},
     "output_type": "execute_result"
    }
   ],
   "source": [
    "a(10)"
   ]
  },
  {
   "cell_type": "code",
   "execution_count": null,
   "metadata": {},
   "outputs": [],
   "source": []
  }
 ],
 "metadata": {
  "kernelspec": {
   "display_name": "Python 3",
   "language": "python",
   "name": "python3"
  },
  "language_info": {
   "codemirror_mode": {
    "name": "ipython",
    "version": 3
   },
   "file_extension": ".py",
   "mimetype": "text/x-python",
   "name": "python",
   "nbconvert_exporter": "python",
   "pygments_lexer": "ipython3",
   "version": "3.7.6"
  }
 },
 "nbformat": 4,
 "nbformat_minor": 4
}
