{
 "cells": [
  {
   "cell_type": "markdown",
   "metadata": {},
   "source": [
    "#Functions"
   ]
  },
  {
   "cell_type": "code",
   "execution_count": 2,
   "metadata": {},
   "outputs": [
    {
     "name": "stdout",
     "output_type": "stream",
     "text": [
      "programming lang\n"
     ]
    },
    {
     "data": {
      "text/plain": [
       "str"
      ]
     },
     "execution_count": 2,
     "metadata": {},
     "output_type": "execute_result"
    }
   ],
   "source": [
    "## Built in functions\n",
    "\n",
    "x='programming lang'\n",
    "print(x)\n",
    "type(x)"
   ]
  },
  {
   "cell_type": "markdown",
   "metadata": {},
   "source": [
    "## Functions from other modules\n"
   ]
  },
  {
   "cell_type": "code",
   "execution_count": 5,
   "metadata": {},
   "outputs": [
    {
     "name": "stdout",
     "output_type": "stream",
     "text": [
      "cube of x= 125.0\n"
     ]
    }
   ],
   "source": [
    "import math\n",
    "\n",
    "x=5\n",
    "print(\"cube of x=\",math.pow(x,3))"
   ]
  },
  {
   "cell_type": "code",
   "execution_count": 6,
   "metadata": {},
   "outputs": [
    {
     "name": "stdout",
     "output_type": "stream",
     "text": [
      "sqrt of x= 2.23606797749979\n"
     ]
    }
   ],
   "source": [
    "## functions that are part of the modules\n",
    "\n",
    "from math import sqrt\n",
    "print(\"sqrt of x=\",sqrt(x))"
   ]
  },
  {
   "cell_type": "markdown",
   "metadata": {},
   "source": [
    "## Functions that we can create\n"
   ]
  },
  {
   "cell_type": "markdown",
   "metadata": {},
   "source": [
    "## User-Defined Funtions\n"
   ]
  },
  {
   "cell_type": "code",
   "execution_count": 7,
   "metadata": {},
   "outputs": [
    {
     "name": "stdout",
     "output_type": "stream",
     "text": [
      "===========================================================\n",
      "Covid-19: Please stay home unless it is extremely important\n",
      "===========================================================\n"
     ]
    }
   ],
   "source": [
    "#Functions  without any input  or output (nothing out of the function)\n",
    "\n",
    "def displayMessage():\n",
    "    message = \"Covid-19: Please stay home unless it is extremely important\"\n",
    "    print('=' * len(message))\n",
    "    print(message)\n",
    "    print('='* len(message))\n",
    "    ## Python stores whole function in teh memory\n",
    "\n",
    "#Call the function\n",
    "displayMessage()"
   ]
  },
  {
   "cell_type": "code",
   "execution_count": 9,
   "metadata": {},
   "outputs": [
    {
     "name": "stdout",
     "output_type": "stream",
     "text": [
      "3.0\n"
     ]
    }
   ],
   "source": [
    "# cal avg - avg of the list of numbers\n",
    "#Functions accept the list\n",
    "\n",
    "## void functions that doesnt give back anything\n",
    "def computeAvg(numlist):\n",
    "    count =len(numlist)\n",
    "    total =sum(numlist)\n",
    "    avg= total/count\n",
    "    print(avg)\n",
    "    \n",
    "    \n",
    "#Call the function , using anonymous list\n",
    "computeAvg([1,2,3,4,5])"
   ]
  },
  {
   "cell_type": "code",
   "execution_count": 11,
   "metadata": {},
   "outputs": [
    {
     "name": "stdout",
     "output_type": "stream",
     "text": [
      "3.4\n"
     ]
    }
   ],
   "source": [
    "computeAvg([1.2,3.4,5.6])"
   ]
  },
  {
   "cell_type": "code",
   "execution_count": 14,
   "metadata": {},
   "outputs": [
    {
     "name": "stdout",
     "output_type": "stream",
     "text": [
      "enter a number3\n",
      "factorial value 6\n"
     ]
    }
   ],
   "source": [
    "####Function that returns values\n",
    "def computeFactorial(num):\n",
    "    if(num==0 or num==1):\n",
    "        num =1\n",
    "    else:\n",
    "        num= num*computeFactorial(num-1)\n",
    "    return num\n",
    "\n",
    "x= int(input(\"enter a number\"))\n",
    "print(\"factorial value\",computeFactorial(x))  ## values is returned back from the actual function to this function to display the output\n"
   ]
  },
  {
   "cell_type": "markdown",
   "metadata": {},
   "source": [
    "## Returns multiple values froma  fuction --> Java doesnt allow today\n"
   ]
  },
  {
   "cell_type": "code",
   "execution_count": 16,
   "metadata": {},
   "outputs": [
    {
     "name": "stdout",
     "output_type": "stream",
     "text": [
      "Min and Max values: 2 8\n"
     ]
    }
   ],
   "source": [
    "def findMinMax(numList):\n",
    "    max=numList[0]\n",
    "    min= numList[0]\n",
    "    \n",
    "    for num in numList:\n",
    "        if num >max:\n",
    "            max = num #Replace maximum\n",
    "    for num in numList:\n",
    "        if num <min:\n",
    "            min =num\n",
    "    return min, max\n",
    "\n",
    "x,y= findMinMax([2,8,5])\n",
    "print(\"Min and Max values:\" ,x,y)"
   ]
  },
  {
   "cell_type": "markdown",
   "metadata": {},
   "source": [
    "## Variable Scope\n"
   ]
  },
  {
   "cell_type": "code",
   "execution_count": 17,
   "metadata": {},
   "outputs": [
    {
     "name": "stdout",
     "output_type": "stream",
     "text": [
      "local number in functions 2.5\n",
      "global numbers in functions 5.6\n"
     ]
    }
   ],
   "source": [
    "num =5.6\n",
    "\n",
    "#Namespace --> inside function is local\n",
    "#variable outside the function is global varialbe.\n",
    "def displayNumber(val):\n",
    "    print(\"local number in functions\",val)\n",
    "    print(\"global numbers in functions\",num)\n",
    "displayNumber(2.5)"
   ]
  },
  {
   "cell_type": "markdown",
   "metadata": {},
   "source": [
    "## Positional arguments\n",
    "def calculateRateOfInterest(Principal, rate,period) \n",
    "\n",
    "\n",
    "Pass in correct parameters and then take those for "
   ]
  },
  {
   "cell_type": "code",
   "execution_count": 20,
   "metadata": {},
   "outputs": [
    {
     "ename": "SyntaxError",
     "evalue": "positional argument follows keyword argument (<ipython-input-20-8d23e4965310>, line 12)",
     "output_type": "error",
     "traceback": [
      "\u001b[1;36m  File \u001b[1;32m\"<ipython-input-20-8d23e4965310>\"\u001b[1;36m, line \u001b[1;32m12\u001b[0m\n\u001b[1;33m    calculateRateOfInterest(1000,rate =0.01,10) # not possible\u001b[0m\n\u001b[1;37m                                           ^\u001b[0m\n\u001b[1;31mSyntaxError\u001b[0m\u001b[1;31m:\u001b[0m positional argument follows keyword argument\n"
     ]
    }
   ],
   "source": [
    "def calculateRateOfInterest(principal, rate,period):\n",
    "    result=principal * rate*period\n",
    "    print(result)\n",
    "    \n",
    "## Keyword matching arguments\n",
    "calculateRateOfInterest(rate =0.01,period=10,principal=1000) ##Keywords\n",
    "\n",
    "#Positional argument and then keyword arguments are possible for the flow\n",
    "calculateRateOfInterest(1000,rate =0.01,period=10)\n",
    "\n",
    "##When we gave a keyword argument we can give any more positional arguments\n",
    "calculateRateOfInterest(1000,rate =0.01,10) # not possible\n"
   ]
  },
  {
   "cell_type": "code",
   "execution_count": 24,
   "metadata": {},
   "outputs": [
    {
     "name": "stdout",
     "output_type": "stream",
     "text": [
      "100.0\n",
      "34.0\n",
      "2000.0\n"
     ]
    }
   ],
   "source": [
    "## Giving default values for the function\n",
    "def calculateintrest(principal=1000, rate=0.01, period=10):\n",
    "    result=principal * rate*period\n",
    "    print(result)\n",
    "calculateintrest() ## default values are selected for the  input in the function\n",
    "calculateintrest(100,0.01,34) ## take the values we pass over the default one\n",
    "calculateintrest(10000,0.02) ## dont pass anything default value is substitued\n"
   ]
  },
  {
   "cell_type": "code",
   "execution_count": 26,
   "metadata": {},
   "outputs": [
    {
     "name": "stdout",
     "output_type": "stream",
     "text": [
      "1845904760328\n",
      "1845902973576\n",
      "[1, 2, 3]\n",
      "[1, 'Python', 3]\n",
      "[1, 2, 3]\n"
     ]
    }
   ],
   "source": [
    "def displayList(numList):\n",
    "    print(id(numList))\n",
    "    print(numList)\n",
    "    numList[1]='Python'\n",
    "    print(numList)\n",
    "\n",
    "x=[1,2,3]  ## when we pass mutable object we should be careful for the function\n",
    "# so take a copy before passing to be safe\n",
    "\n",
    "y=list(x)\n",
    "\n",
    "print(id(y))\n",
    "displayList(x)\n",
    "print(y)\n"
   ]
  },
  {
   "cell_type": "code",
   "execution_count": 29,
   "metadata": {},
   "outputs": [
    {
     "data": {
      "text/plain": [
       "1"
      ]
     },
     "execution_count": 29,
     "metadata": {},
     "output_type": "execute_result"
    }
   ],
   "source": [
    "#Passing Variable arguments\n",
    "\n",
    "def addNumbers(*numbers):# * then u cna pass more numbers, Python can know how manu u want to pass in\n",
    "    total =0\n",
    "    for num in numbers: // When no * then we assume it as one number so we lose the iteration\n",
    "        total +=num\n",
    "    return total\n",
    "addNumbers(1)"
   ]
  },
  {
   "cell_type": "code",
   "execution_count": null,
   "metadata": {},
   "outputs": [],
   "source": []
  }
 ],
 "metadata": {
  "kernelspec": {
   "display_name": "Python 3",
   "language": "python",
   "name": "python3"
  },
  "language_info": {
   "codemirror_mode": {
    "name": "ipython",
    "version": 3
   },
   "file_extension": ".py",
   "mimetype": "text/x-python",
   "name": "python",
   "nbconvert_exporter": "python",
   "pygments_lexer": "ipython3",
   "version": "3.7.6"
  }
 },
 "nbformat": 4,
 "nbformat_minor": 4
}
